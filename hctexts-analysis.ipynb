{
 "cells": [
  {
   "cell_type": "markdown",
   "metadata": {
    "nteract": {
     "transient": {
      "deleting": false
     }
    }
   },
   "source": [
    "# Analyzing texts for Holy Cross Latin\n",
    "\n",
    "## Hyginus, *Fabulae*\n",
    "\n",
    "- [load corpus](nbs/load-hyginus.ipynb)\n",
    "- [token frequency](nbs/tokens-hyginus.ipynb)\n",
    "- lexeme frequency\n",
    "- analysis of lexeme frequency by part of speech\n"
   ]
  }
 ],
 "metadata": {
  "kernel_info": {
   "name": "node_nteract"
  },
  "kernelspec": {
   "display_name": "Scala (2.12)",
   "language": "scala",
   "name": "scala212"
  },
  "language_info": {
   "codemirror_mode": "text/x-scala",
   "file_extension": ".scala",
   "mimetype": "text/x-scala",
   "name": "scala",
   "nbconvert_exporter": "script",
   "version": "2.12.10"
  },
  "nteract": {
   "version": "0.21.0"
  }
 },
 "nbformat": 4,
 "nbformat_minor": 1
}
