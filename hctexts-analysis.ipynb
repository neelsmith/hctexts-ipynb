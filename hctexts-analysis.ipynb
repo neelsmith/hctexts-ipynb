{
  "cells": [
    {
      "cell_type": "markdown",
      "source": [
        "# Analyzing texts for Holy Cross Latin\n",
        "\n",
        "## Hyginus, *Fabulae*\n",
        "\n",
        "- [load corpus](nbs/load-hyginus.ipynb)\n",
        "- [token frequency](nbs/tokens-hyginus.ipynb)\n",
        "- lexeme frequency\n",
        "- [analysis of lexeme frequency by part of speech](nbs/shared-latinity-pos.ipynb)\n"
      ],
      "metadata": {
        "nteract": {
          "transient": {
            "deleting": false
          }
        }
      }
    }
  ],
  "metadata": {
    "kernel_info": {
      "name": "node_nteract"
    },
    "kernelspec": {
      "display_name": "Scala (2.12)",
      "language": "scala",
      "name": "scala212"
    },
    "language_info": {
      "codemirror_mode": "text/x-scala",
      "file_extension": ".scala",
      "mimetype": "text/x-scala",
      "name": "scala",
      "nbconvert_exporter": "script",
      "version": "2.12.10"
    },
    "nteract": {
      "version": "0.22.0"
    }
  },
  "nbformat": 4,
  "nbformat_minor": 1
}