{
  "cells": [
    {
      "cell_type": "markdown",
      "source": [
        "# Analyzing texts for Holy Cross Latin\n",
        "\n",
        "The notebooks in this repository illustrate how to use Scala to answer some common questions about a citable corpus of texts.\n",
        "\n",
        "## Hyginus, *Fabulae*\n",
        "\n",
        "The following notebooks analyze a text of Hyginus' *Fabulae* that we are currently using as the target text for Latin 101-102 at Holy Cross.\n",
        "\n",
        "- [load a citable corpus](nbs/load-hyginus.ipynb)\n",
        "- [visualize frequency of tokens](nbs/tokens-hyginus.ipynb)\n",
        "- [visualize frequency of lexemes](nbs/lexemes-hyginus.ipynb)\n",
        "- [analyze frequency of lexemes by part of speech](nbs/shared-latinity-pos.ipynb)\n",
        "- vocabulary distribution within PoS breakdown\n",
        "- how many lexemes bring you to 95% coverage of a text?\n",
        "\n",
        "## Multiple corpora\n",
        "\n",
        "- identifying common vocabulary\n",
        "- effects of corpus size on  vocabulary size for a target level of coverage\n"
      ],
      "metadata": {
        "nteract": {
          "transient": {
            "deleting": false
          }
        }
      }
    },
    {
      "cell_type": "markdown",
      "source": [],
      "metadata": {
        "nteract": {
          "transient": {
            "deleting": false
          }
        }
      }
    }
  ],
  "metadata": {
    "kernel_info": {
      "name": "node_nteract"
    },
    "kernelspec": {
      "display_name": "Scala (2.12)",
      "language": "scala",
      "name": "scala212"
    },
    "language_info": {
      "codemirror_mode": "text/x-scala",
      "file_extension": ".scala",
      "mimetype": "text/x-scala",
      "name": "scala",
      "nbconvert_exporter": "script",
      "version": "2.12.10"
    },
    "nteract": {
      "version": "0.22.0"
    }
  },
  "nbformat": 4,
  "nbformat_minor": 1
}