{
  "cells": [
    {
      "cell_type": "markdown",
      "source": [
        "# What is common Latin?\n",
        "\n",
        "Observations on Hyginus:\n",
        "\n",
        "\n",
        "- Top 400 lexemes produce 18K occurrences\n",
        "- Next 400 lexemes produce 1565 occurrences\n",
        "\n",
        "\n",
        "Goals of this notebook:\n",
        "\n",
        "Analyze breakdown by part of speech: what is distribution of lexemes within each PoS?\n",
        "\n",
        "\n",
        "\n"
      ],
      "metadata": {}
    },
    {
      "cell_type": "markdown",
      "source": [
        "## Configuring Jupyter notebook"
      ],
      "metadata": {
        "nteract": {
          "transient": {
            "deleting": false
          }
        }
      }
    },
    {
      "cell_type": "code",
      "source": [
        "val myBT = coursierapi.MavenRepository.of(\"https://dl.bintray.com/neelsmith/maven\")\n",
        "interp.repositories() ++= Seq(myBT)"
      ],
      "outputs": [
        {
          "output_type": "execute_result",
          "execution_count": 1,
          "data": {
            "text/plain": [
              "\u001b[36mmyBT\u001b[39m: \u001b[32mcoursierapi\u001b[39m.\u001b[32mMavenRepository\u001b[39m = MavenRepository(https://dl.bintray.com/neelsmith/maven)"
            ]
          },
          "metadata": {}
        }
      ],
      "execution_count": 1,
      "metadata": {
        "execution": {
          "iopub.status.busy": "2020-02-26T19:09:11.987Z",
          "iopub.execute_input": "2020-02-26T19:09:12.001Z",
          "iopub.status.idle": "2020-02-26T19:09:19.716Z"
        }
      }
    },
    {
      "cell_type": "code",
      "source": [
        "import $ivy.`edu.holycross.shot::ohco2:10.18.2`\n",
        "import $ivy.`edu.holycross.shot.cite::xcite:4.2.0`\n",
        "import $ivy.`edu.holycross.shot::midvalidator:10.0.0`\n",
        "import $ivy.`edu.holycross.shot::latincorpus:2.2.1`\n",
        "import $ivy.`edu.holycross.shot::latphone:2.7.2`"
      ],
      "outputs": [
        {
          "output_type": "execute_result",
          "execution_count": 2,
          "data": {
            "text/plain": [
              "\u001b[32mimport \u001b[39m\u001b[36m$ivy.$                                  \n",
              "\u001b[39m\n",
              "\u001b[32mimport \u001b[39m\u001b[36m$ivy.$                                     \n",
              "\u001b[39m\n",
              "\u001b[32mimport \u001b[39m\u001b[36m$ivy.$                                        \n",
              "\u001b[39m\n",
              "\u001b[32mimport \u001b[39m\u001b[36m$ivy.$                                      \n",
              "\u001b[39m\n",
              "\u001b[32mimport \u001b[39m\u001b[36m$ivy.$                                   \u001b[39m"
            ]
          },
          "metadata": {}
        }
      ],
      "execution_count": 2,
      "metadata": {
        "execution": {
          "iopub.status.busy": "2020-02-26T19:09:19.734Z",
          "iopub.execute_input": "2020-02-26T19:09:19.744Z",
          "iopub.status.idle": "2020-02-26T19:09:26.278Z"
        }
      }
    },
    {
      "cell_type": "markdown",
      "source": [
        "## Load a citable corpus from a URL"
      ],
      "metadata": {}
    },
    {
      "cell_type": "code",
      "source": [
        "import edu.holycross.shot.cite._\n",
        "import edu.holycross.shot.ohco2._\n",
        "\n",
        "val hyginusUrl = \"https://raw.githubusercontent.com/neelsmith/hctexts/master/cex/hyginus.cex\"\n",
        "val corpus = CorpusSource.fromUrl(hyginusUrl, cexHeader = true)"
      ],
      "outputs": [
        {
          "output_type": "execute_result",
          "execution_count": 3,
          "data": {
            "text/plain": [
              "\u001b[32mimport \u001b[39m\u001b[36medu.holycross.shot.cite._\n",
              "\u001b[39m\n",
              "\u001b[32mimport \u001b[39m\u001b[36medu.holycross.shot.ohco2._\n",
              "\n",
              "\u001b[39m\n",
              "\u001b[36mhyginusUrl\u001b[39m: \u001b[32mString\u001b[39m = \u001b[32m\"https://raw.githubusercontent.com/neelsmith/hctexts/master/cex/hyginus.cex\"\u001b[39m\n",
              "\u001b[36mcorpus\u001b[39m: \u001b[32mCorpus\u001b[39m = \u001b[33mCorpus\u001b[39m(\n",
              "  \u001b[33mVector\u001b[39m(\n",
              "    \u001b[33mCitableNode\u001b[39m(\n",
              "      \u001b[33mCtsUrn\u001b[39m(\u001b[32m\"urn:cts:latinLit:stoa1263.stoa001.hc:t.1\"\u001b[39m),\n",
              "      \u001b[32m\"EXCERPTA EX HYGINI GENEALOGIIS, VOLGO FABVLAE.\"\u001b[39m\n",
              "    ),\n",
              "    \u001b[33mCitableNode\u001b[39m(\n",
              "      \u001b[33mCtsUrn\u001b[39m(\u001b[32m\"urn:cts:latinLit:stoa1263.stoa001.hc:pr.1\"\u001b[39m),\n",
              "      \u001b[32m\"Ex Caligine Chaos: ex Chao et Caligine Nox Dies Erebus Aether. ex Nocte et Erebo Fatum Senectus Mors Letum Continentia Somnus Somnia Amor id est Lysimeles, Epiphron dumiles Porphyrion Epaphus Discordia Miseria Petulantia Nemesis Euphrosyne Amicitia Misericordia Styx; Parcae tres, id est Clotho Lachesis Atropos; Hesperides, Aegle Hesperie aerica.\"\u001b[39m\n",
              "    ),\n",
              "    \u001b[33mCitableNode\u001b[39m(\n",
              "      \u001b[33mCtsUrn\u001b[39m(\u001b[32m\"urn:cts:latinLit:stoa1263.stoa001.hc:pr.2\"\u001b[39m),\n",
              "      \u001b[32m\"Ex Aethere et Die Terra Caelum Mare.\"\u001b[39m\n",
              "    ),\n",
              "    \u001b[33mCitableNode\u001b[39m(\n",
              "      \u001b[33mCtsUrn\u001b[39m(\u001b[32m\"urn:cts:latinLit:stoa1263.stoa001.hc:pr.3\"\u001b[39m),\n",
              "      \u001b[32m\"Ex Aethere et Terra Dolor Dolus Ira Luctus Mendacium Iusiurandum Vltio Intemperantia Altercatio Obliuio Socordia Timor Superbia Incestum Pugna Oceanus Themis Tartarus Pontus; et Titanes, Briareus Gyges Steropes Atlas Hyperion et Polus, Saturnus Ops Moneta Dione; Furiae tres, id est Alecto Megaera Tisiphone.\"\u001b[39m\n",
              "    ),\n",
              "    \u001b[33mCitableNode\u001b[39m(\n",
              "      \u001b[33mCtsUrn\u001b[39m(\u001b[32m\"urn:cts:latinLit:stoa1263.stoa001.hc:pr.4\"\u001b[39m),\n",
              "      \u001b[32m\"Ex Terra et Tartaro Gigantes, Enceladus Coeus elentes mophius Astraeus Pelorus Pallas Emphytus Rhoecus ienios Agrius alemone Ephialtes Eurytus effracorydon Theomises Theodamas Otus Typhon Polyboetes menephriarus abesus colophonus Iapetus.\"\u001b[39m\n",
              "    ),\n",
              "    \u001b[33mCitableNode\u001b[39m(\n",
              "      \u001b[33mCtsUrn\u001b[39m(\u001b[32m\"urn:cts:latinLit:stoa1263.stoa001.hc:pr.5\"\u001b[39m),\n",
              "      \u001b[32m\"Ex Ponto et Mari piscium genera.\"\u001b[39m\n",
              "    ),\n",
              "    \u001b[33mCitableNode\u001b[39m(\n",
              "      \u001b[33mCtsUrn\u001b[39m(\u001b[32m\"urn:cts:latinLit:stoa1263.stoa001.hc:pr.6\"\u001b[39m),\n",
              "      \u001b[32m\"Ex Oceano et Tethye Oceanitides, hoc est yaea Melite Ianthe Admete Stilbo\u001b[39m..."
            ]
          },
          "metadata": {}
        }
      ],
      "execution_count": 3,
      "metadata": {
        "execution": {
          "iopub.status.busy": "2020-02-26T19:09:26.291Z",
          "iopub.execute_input": "2020-02-26T19:09:26.301Z",
          "iopub.status.idle": "2020-02-26T19:09:45.109Z"
        }
      }
    },
    {
      "cell_type": "markdown",
      "source": [
        "## Create a tokenizable corpus\n",
        "\n",
        "Combine a citable corpus with an orthographic system to create a tokenizable corpus."
      ],
      "metadata": {}
    },
    {
      "cell_type": "markdown",
      "source": [
        "Tokenize corpus according to its orthographic system (here, `Latin23Alphabet`)."
      ],
      "metadata": {}
    },
    {
      "cell_type": "code",
      "source": [
        "import edu.holycross.shot.latin._\n",
        "import edu.holycross.shot.mid.validator._\n",
        "\n",
        "val tcorpus = TokenizableCorpus(corpus, Latin23Alphabet )\n",
        "val wordList =  tcorpus.wordList"
      ],
      "outputs": [
        {
          "output_type": "execute_result",
          "execution_count": 5,
          "data": {
            "text/plain": [
              "\u001b[32mimport \u001b[39m\u001b[36medu.holycross.shot.latin._\n",
              "\u001b[39m\n",
              "\u001b[32mimport \u001b[39m\u001b[36medu.holycross.shot.mid.validator._\n",
              "\n",
              "\u001b[39m\n",
              "\u001b[36mtcorpus\u001b[39m: \u001b[32mTokenizableCorpus\u001b[39m = \u001b[33mTokenizableCorpus\u001b[39m(\n",
              "  \u001b[33mCorpus\u001b[39m(\n",
              "    \u001b[33mVector\u001b[39m(\n",
              "      \u001b[33mCitableNode\u001b[39m(\n",
              "        \u001b[33mCtsUrn\u001b[39m(\u001b[32m\"urn:cts:latinLit:stoa1263.stoa001.hc:t.1\"\u001b[39m),\n",
              "        \u001b[32m\"EXCERPTA EX HYGINI GENEALOGIIS, VOLGO FABVLAE.\"\u001b[39m\n",
              "      ),\n",
              "      \u001b[33mCitableNode\u001b[39m(\n",
              "        \u001b[33mCtsUrn\u001b[39m(\u001b[32m\"urn:cts:latinLit:stoa1263.stoa001.hc:pr.1\"\u001b[39m),\n",
              "        \u001b[32m\"Ex Caligine Chaos: ex Chao et Caligine Nox Dies Erebus Aether. ex Nocte et Erebo Fatum Senectus Mors Letum Continentia Somnus Somnia Amor id est Lysimeles, Epiphron dumiles Porphyrion Epaphus Discordia Miseria Petulantia Nemesis Euphrosyne Amicitia Misericordia Styx; Parcae tres, id est Clotho Lachesis Atropos; Hesperides, Aegle Hesperie aerica.\"\u001b[39m\n",
              "      ),\n",
              "      \u001b[33mCitableNode\u001b[39m(\n",
              "        \u001b[33mCtsUrn\u001b[39m(\u001b[32m\"urn:cts:latinLit:stoa1263.stoa001.hc:pr.2\"\u001b[39m),\n",
              "        \u001b[32m\"Ex Aethere et Die Terra Caelum Mare.\"\u001b[39m\n",
              "      ),\n",
              "      \u001b[33mCitableNode\u001b[39m(\n",
              "        \u001b[33mCtsUrn\u001b[39m(\u001b[32m\"urn:cts:latinLit:stoa1263.stoa001.hc:pr.3\"\u001b[39m),\n",
              "        \u001b[32m\"Ex Aethere et Terra Dolor Dolus Ira Luctus Mendacium Iusiurandum Vltio Intemperantia Altercatio Obliuio Socordia Timor Superbia Incestum Pugna Oceanus Themis Tartarus Pontus; et Titanes, Briareus Gyges Steropes Atlas Hyperion et Polus, Saturnus Ops Moneta Dione; Furiae tres, id est Alecto Megaera Tisiphone.\"\u001b[39m\n",
              "      ),\n",
              "      \u001b[33mCitableNode\u001b[39m(\n",
              "        \u001b[33mCtsUrn\u001b[39m(\u001b[32m\"urn:cts:latinLit:stoa1263.stoa001.hc:pr.4\"\u001b[39m),\n",
              "        \u001b[32m\"Ex Terra et Tartaro Gigantes, Enceladus Coeus elentes mophius Astraeus Pelorus Pallas Emphytus Rhoecus ienios Agrius alemone Ephialtes Eurytus effracorydon Theomises Theodamas Otus Typhon Polyboetes menephriarus abesus colophonus Iapetus.\"\u001b[39m\n",
              "      ),\n",
              "      \u001b[33mCitableNode\u001b[39m(\n",
              "        \u001b[33mCtsUrn\u001b[39m(\u001b[32m\"urn:cts:latinLit:stoa1263.stoa001.hc:pr.5\"\u001b[39m),\n",
              "        \u001b[32m\"Ex Ponto et Mari piscium genera.\"\u001b[39m\n",
              "      ),\n",
              "      \u001b[33mCitableNode\u001b[39m(\n",
              "        \u001b[33mCtsUrn\u001b[39m(\u001b[32m\"urn:cts:latinLit:stoa1263.stoa001.hc:pr.6\"\u001b[39m),\n",
              "...\n",
              "\u001b[36mwordList\u001b[39m: \u001b[32mVector\u001b[39m[\u001b[32mString\u001b[39m] = \u001b[33mVector\u001b[39m(\n",
              "  \u001b[32m\"a\"\u001b[39m,\n",
              "  \u001b[32m\"ab\"\u001b[39m,\n",
              "  \u001b[32m\"abanti\"\u001b[39m,\n",
              "  \u001b[32m\"abantis\"\u001b[39m,\n",
              "  \u001b[32m\"abas\"\u001b[39m,\n",
              "  \u001b[32m\"abdero\"\u001b[39m,\n",
              "  \u001b[32m\"abdidit\"\u001b[39m,\n",
              "  \u001b[32m\"abducere\"\u001b[39m,\n",
              "  \u001b[32m\"abducerent\"\u001b[39m,\n",
              "  \u001b[32m\"abduxit\"\u001b[39m,\n",
              "  \u001b[32m\"abegit\"\u001b[39m,\n",
              "  \u001b[32m\"aberrantes\"\u001b[39m,\n",
              "  \u001b[32m\"aberrauit\"\u001b[39m,\n",
              "  \u001b[32m\"abesset\"\u001b[39m,\n",
              "  \u001b[32m\"abesus\"\u001b[39m,\n",
              "  \u001b[32m\"abiecit\"\u001b[39m,\n",
              "  \u001b[32m\"abiectis\"\u001b[39m,\n",
              "  \u001b[32m\"abiit\"\u001b[39m,\n",
              "  \u001b[32m\"abire\"\u001b[39m,\n",
              "  \u001b[32m\"abiret\"\u001b[39m,\n",
              "  \u001b[32m\"abisse\"\u001b[39m,\n",
              "  \u001b[32m\"abiurgata\"\u001b[39m,\n",
              "  \u001b[32m\"ablatis\"\u001b[39m,\n",
              "  \u001b[32m\"abluere\"\u001b[39m,\n",
              "  \u001b[32m\"abluit\"\u001b[39m,\n",
              "  \u001b[32m\"abnuisset\"\u001b[39m,\n",
              "  \u001b[32m\"abnuit\"\u001b[39m,\n",
              "  \u001b[32m\"abraxas\"\u001b[39m,\n",
              "  \u001b[32m\"abreptos\"\u001b[39m,\n",
              "  \u001b[32m\"abripuerat\"\u001b[39m,\n",
              "  \u001b[32m\"abscondit\"\u001b[39m,\n",
              "  \u001b[32m\"absconditum\"\u001b[39m,\n",
              "  \u001b[32m\"absconse\"\u001b[39m,\n",
              "  \u001b[32m\"absisterent\"\u001b[39m,\n",
              "  \u001b[32m\"absoridem\"\u001b[39m,\n",
              "  \u001b[32m\"absoritani\"\u001b[39m,\n",
              "  \u001b[32m\"absoron\"\u001b[39m,\n",
              "  \u001b[32m\"abstulit\"\u001b[39m,\n",
              "..."
            ]
          },
          "metadata": {}
        }
      ],
      "execution_count": 5,
      "metadata": {
        "execution": {
          "iopub.status.busy": "2020-02-26T19:09:48.068Z",
          "iopub.execute_input": "2020-02-26T19:09:48.080Z",
          "iopub.status.idle": "2020-02-26T19:10:23.933Z"
        }
      }
    },
    {
      "cell_type": "markdown",
      "source": [
        "## Create a `LatinCorpus`\n",
        "\n",
        "Add morphological output to the tokenizable corpus to create an instance of a `LatinCorpus`."
      ],
      "metadata": {
        "nteract": {
          "transient": {
            "deleting": false
          }
        }
      }
    },
    {
      "cell_type": "code",
      "source": [
        "// Read morphological output from a URL:\n",
        "val hyginusFstUrl = \"https://raw.githubusercontent.com/neelsmith/hctexts/master/parser-output/hyginus/hyginus-parses.txt\"\n",
        "import scala.io.Source\n",
        "val fstOutput = Source.fromURL(hyginusFstUrl).getLines.toVector"
      ],
      "outputs": [
        {
          "output_type": "execute_result",
          "execution_count": 7,
          "data": {
            "text/plain": [
              "\u001b[36mhyginusFstUrl\u001b[39m: \u001b[32mString\u001b[39m = \u001b[32m\"https://raw.githubusercontent.com/neelsmith/hctexts/master/parser-output/hyginus/hyginus-parses.txt\"\u001b[39m\n",
              "\u001b[32mimport \u001b[39m\u001b[36mscala.io.Source\n",
              "\u001b[39m\n",
              "\u001b[36mfstOutput\u001b[39m: \u001b[32mVector\u001b[39m[\u001b[32mString\u001b[39m] = \u001b[33mVector\u001b[39m(\n",
              "  \u001b[32m\"> et\"\u001b[39m,\n",
              "  \u001b[32m\"<u>latcommon.indecln16278</u><u>ls.n16278</u>et<indecl><indeclconj><div><indeclconj><indecl><u>indeclinfl.2</u>\"\u001b[39m,\n",
              "  \u001b[32m\"> in\"\u001b[39m,\n",
              "  \u001b[32m\"<u>latcommon.indecln22111</u><u>ls.n22111</u>in<indecl><indeclprep><div><indeclprep><indecl><u>indeclinfl.1</u>\"\u001b[39m,\n",
              "  \u001b[32m\"> cum\"\u001b[39m,\n",
              "  \u001b[32m\"<u>latcommon.indecln11872</u><u>ls.n11872</u>cum<indecl><indeclprep><div><indeclprep><indecl><u>indeclinfl.1</u>\"\u001b[39m,\n",
              "  \u001b[32m\"> filius\"\u001b[39m,\n",
              "  \u001b[32m\"<u>latcommon.nounn18185</u><u>ls.n18185</u>fili<noun><masc><us_i><div><us_i><noun>us<masc><nom><sg><u>livymorph.us_i1</u>\"\u001b[39m,\n",
              "  \u001b[32m\"> ex\"\u001b[39m,\n",
              "  \u001b[32m\"<u>latcommon.indecln16519</u><u>ls.n16519</u>ex<indecl><indeclconj><div><indeclconj><indecl><u>indeclinfl.2</u>\"\u001b[39m,\n",
              "  \u001b[32m\"> est\"\u001b[39m,\n",
              "  \u001b[32m\"<u>latcommon.irregverbn46529c</u><u>ls.n46529</u><#>est<3rd><sg><pres><indic><act><irregcverb><div><irregcverb><u>irreginfl.3</u>\"\u001b[39m,\n",
              "  \u001b[32m\"> ad\"\u001b[39m,\n",
              "  \u001b[32m\"<u>latcommon.indecln665</u><u>ls.n665</u>ad<indecl><indeclprep><div><indeclprep><indecl><u>indeclinfl.1</u>\"\u001b[39m,\n",
              "  \u001b[32m\"> qui\"\u001b[39m,\n",
              "  \u001b[32m\"<u>latcommon.irregpron40242d</u><u>ls.n40242</u>qui<masc><nom><pl><irregpron><div><irregpron><u>irreginfl.7</u>\"\u001b[39m,\n",
              "  \u001b[32m\"<u>livymorph.irrpqui6</u><u>ls.n40103</u>qui<masc><nom><pl><irregpron><div><irregpron><u>irreginfl.7</u>\"\u001b[39m,\n",
              "  \u001b[32m\"<u>livymorph.irrpqui1</u><u>ls.n40103</u>qui<masc><nom><sg><irregpron><div><irregpron><u>irreginfl.7</u>\"\u001b[39m,\n",
              "  \u001b[32m\"> se\"\u001b[39m,\n",
              "  \u001b[32m\"<u>latcommon.irregpron46498c</u><u>ls.n46498</u>se<masc><acc><sg><irregpron><div><irregpron><u>irreginfl.7</u>\"\u001b[39m,\n",
              "  \u001b[32m\"<u>latcommon.irregpron46498f</u><u>ls.n46498</u>se<masc><abl><sg><irregpron><div><irregpron><u>irreginfl.7</u>\"\u001b[39m,\n",
              "  \u001b[32m\"<u>latcommon.irregpron46498k</u><u>ls.n46498</u>se<fem><abl><sg><irregpron><div><irregpron><u>irreginfl.7</u>\"\u001b[39m,\n",
              "  \u001b[32m\"<u>latcommon.irregpron46498q</u><u>ls.n46498</u>se<neut><abl><sg><irregpron><div><irregpron><u>irreginfl.7</u>\"\u001b[39m,\n",
              "  \u001b[32m\"<u>latcommon.irregpron46498ac</u><u>ls.n46498</u>se<fem><abl><pl><irregpron><\u001b[39m..."
            ]
          },
          "metadata": {}
        }
      ],
      "execution_count": 7,
      "metadata": {
        "collapsed": false,
        "jupyter": {
          "source_hidden": false,
          "outputs_hidden": false
        },
        "nteract": {
          "transient": {
            "deleting": false
          }
        },
        "execution": {
          "iopub.status.busy": "2020-02-26T19:10:28.938Z",
          "iopub.execute_input": "2020-02-26T19:10:28.945Z",
          "iopub.status.idle": "2020-02-26T19:10:42.231Z"
        }
      }
    },
    {
      "cell_type": "markdown",
      "source": [
        "Combine parser output with tokenized corpus to get a `LatinCorpus` instance."
      ],
      "metadata": {}
    },
    {
      "cell_type": "code",
      "source": [
        "import edu.holycross.shot.latincorpus._\n",
        "\n",
        "val lc = LatinCorpus.fromFstLines(\n",
        "      corpus,\n",
        "       Latin23Alphabet,\n",
        "     fstOutput,\n",
        "      strict = false\n",
        "    )\n"
      ],
      "outputs": [],
      "execution_count": null,
      "metadata": {
        "execution": {
          "iopub.status.busy": "2020-02-26T19:10:42.248Z",
          "iopub.execute_input": "2020-02-26T19:10:42.255Z"
        }
      }
    },
    {
      "cell_type": "code",
      "source": [
        "// This should be the number of distinct analyzed tokens\n",
        "lc.lexemeTokenIndex.size"
      ],
      "outputs": [],
      "execution_count": null,
      "metadata": {}
    },
    {
      "cell_type": "code",
      "source": [
        "// This is the histogram of recognized lexemes:\n",
        "lc.labelledLexemeHistogram"
      ],
      "outputs": [
        {
          "output_type": "execute_result",
          "execution_count": 9,
          "data": {
            "text/plain": [
              "\u001b[36mres8\u001b[39m: \u001b[32medu\u001b[39m.\u001b[32mholycross\u001b[39m.\u001b[32mshot\u001b[39m.\u001b[32mhistoutils\u001b[39m.\u001b[32mHistogram\u001b[39m[\u001b[32mString\u001b[39m] = \u001b[33mHistogram\u001b[39m(\n",
              "  \u001b[33mVector\u001b[39m(\n",
              "    \u001b[33mFrequency\u001b[39m(\u001b[32m\"ls.n40103:qui1\"\u001b[39m, \u001b[32m1136\u001b[39m),\n",
              "    \u001b[33mFrequency\u001b[39m(\u001b[32m\"ls.n16278:et\"\u001b[39m, \u001b[32m935\u001b[39m),\n",
              "    \u001b[33mFrequency\u001b[39m(\u001b[32m\"ls.n40242:quis1\"\u001b[39m, \u001b[32m834\u001b[39m),\n",
              "    \u001b[33mFrequency\u001b[39m(\u001b[32m\"ls.n25029:is\"\u001b[39m, \u001b[32m798\u001b[39m),\n",
              "    \u001b[33mFrequency\u001b[39m(\u001b[32m\"ls.n46529:sum1\"\u001b[39m, \u001b[32m756\u001b[39m),\n",
              "    \u001b[33mFrequency\u001b[39m(\u001b[32m\"ls.n22111:in1\"\u001b[39m, \u001b[32m707\u001b[39m),\n",
              "    \u001b[33mFrequency\u001b[39m(\u001b[32m\"ls.n18185:filius\"\u001b[39m, \u001b[32m683\u001b[39m),\n",
              "    \u001b[33mFrequency\u001b[39m(\u001b[32m\"ls.n11872:cum1\"\u001b[39m, \u001b[32m636\u001b[39m),\n",
              "    \u001b[33mFrequency\u001b[39m(\u001b[32m\"ls.n16519:ex\"\u001b[39m, \u001b[32m402\u001b[39m),\n",
              "    \u001b[33mFrequency\u001b[39m(\u001b[32m\"ls.n18173:filia\"\u001b[39m, \u001b[32m354\u001b[39m),\n",
              "    \u001b[33mFrequency\u001b[39m(\u001b[32m\"ls.n46498:sui\"\u001b[39m, \u001b[32m350\u001b[39m),\n",
              "    \u001b[33mFrequency\u001b[39m(\u001b[32m\"ls.n665:ad\"\u001b[39m, \u001b[32m298\u001b[39m),\n",
              "    \u001b[33mFrequency\u001b[39m(\u001b[32m\"ls.n47174:suus\"\u001b[39m, \u001b[32m241\u001b[39m),\n",
              "    \u001b[33mFrequency\u001b[39m(\u001b[32m\"ls.n49975:ut\"\u001b[39m, \u001b[32m219\u001b[39m),\n",
              "    \u001b[33mFrequency\u001b[39m(\u001b[32m\"ls.n15868:eo1\"\u001b[39m, \u001b[32m217\u001b[39m),\n",
              "    \u001b[33mFrequency\u001b[39m(\u001b[32m\"ls.n13804:dico2\"\u001b[39m, \u001b[32m198\u001b[39m),\n",
              "    \u001b[33mFrequency\u001b[39m(\u001b[32m\"ls.n24257:interficio\"\u001b[39m, \u001b[32m187\u001b[39m),\n",
              "    \u001b[33mFrequency\u001b[39m(\u001b[32m\"ls.n5:Aba\"\u001b[39m, \u001b[32m171\u001b[39m),\n",
              "    \u001b[33mFrequency\u001b[39m(\u001b[32m\"ls.n20640:hic\"\u001b[39m, \u001b[32m161\u001b[39m),\n",
              "    \u001b[33mFrequency\u001b[39m(\u001b[32m\"ls.n50442:venio\"\u001b[39m, \u001b[32m156\u001b[39m),\n",
              "    \u001b[33mFrequency\u001b[39m(\u001b[32m\"ls.n4:ab\"\u001b[39m, \u001b[32m153\u001b[39m),\n",
              "    \u001b[33mFrequency\u001b[39m(\u001b[32m\"ls.n17516:facio\"\u001b[39m, \u001b[32m151\u001b[39m),\n",
              "    \u001b[33mFrequency\u001b[39m(\u001b[32m\"ls.n41625:rex1\"\u001b[39m, \u001b[32m146\u001b[39m),\n",
              "    \u001b[33mFrequency\u001b[39m(\u001b[32m\"ls.n4633:autem\"\u001b[39m, \u001b[32m136\u001b[39m),\n",
              "    \u001b[33mFrequency\u001b[39m(\u001b[32m\"ls.n14599:do1\"\u001b[39m, \u001b[32m134\u001b[39m),\n",
              "    \u001b[33mFrequency\u001b[39m(\u001b[32m\"ls.n34096:pater\"\u001b[39m, \u001b[32m116\u001b[39m),\n",
              "    \u001b[33mFrequency\u001b[39m(\u001b[32m\"ls.n21494:ille\"\u001b[39m, \u001b[32m104\u001b[39m),\n",
              "    \u001b[33mFrequency\u001b[39m(\u001b[32m\"ls.n32088:occido1\"\u001b[39m, \u001b[32m100\u001b[39m),\n",
              "    \u001b[33mFrequency\u001b[39m(\u001b[32m\"ls.n18705:frater\"\u001b[39m, \u001b[32m92\u001b[39m),\n",
              "    \u001b[33mFrequency\u001b[39m(\u001b[32m\"ls.n31151:non\"\u001b[39m, \u001b[32m88\u001b[39m),\n",
              "    \u001b[33mFrequency\u001b[39m(\u001b[32m\"ls.n51298:volo1\"\u001b[39m, \u001b[32m84\u001b[39m),\n",
              "    \u001b[33mFrequency\u001b[39m(\u001b[32m\"ls.n20077:habeo\"\u001b[39m, \u001b[32m84\u001b[39m),\n",
              "    \u001b[33mFrequency\u001b[39m(\u001b[32m\"ls.n30568:navis\"\u001b[39m, \u001b[32m83\u001b[39m),\n",
              "    \u001b[33mFrequency\u001b[39m(\u001b[32m\"composites.do\"\u001b[39m, \u001b[32m81\u001b[39m),\n",
              "    \u001b[33mFrequency\u001b[39m(\u001b[32m\"ls.n24872:ipse\"\u001b[39m, \u001b[32m75\u001b[39m),\n",
              "    \u001b[33mFrequency\u001b[39m(\u001b[32m\"ls.n28181:mater\"\u001b[39m, \u001b[32m74\u001b[39m),\n",
              "    \u001b[33mFrequency\u001b[39m(\u001b[32m\"ls.n1896:alius2\"\u001b[39m, \u001b[32m72\u001b[39m),\n",
              "..."
            ]
          },
          "metadata": {}
        }
      ],
      "execution_count": 9,
      "metadata": {
        "execution": {
          "iopub.status.busy": "2020-02-26T19:11:11.284Z",
          "iopub.execute_input": "2020-02-26T19:11:11.291Z"
        }
      }
    },
    {
      "cell_type": "code",
      "source": [
        "// It would be nice to visualize, so let's use the \n",
        "// plotly library with ammonite sh:\n",
        "// Make plotly libraries available to this notebook:\n",
        "import $ivy.`org.plotly-scala::plotly-almond:0.7.1`"
      ],
      "outputs": [],
      "execution_count": null,
      "metadata": {}
    },
    {
      "cell_type": "code",
      "source": [
        "// Import plotly libraries, and set display defaults suggested for use in Jupyter NBs:\n",
        "import plotly._, plotly.element._, plotly.layout._, plotly.Almond._\n",
        "repl.pprinter() = repl.pprinter().copy(defaultHeight = 3)"
      ],
      "outputs": [],
      "execution_count": null,
      "metadata": {}
    },
    {
      "cell_type": "markdown",
      "source": [
        "# To work out\n",
        "\n",
        "- relation of counts: \n",
        "    - lexical tokens in corpus\n",
        "    - analyzed lexical tokens\n",
        "    - recognized lexemes\n",
        "- PoS distribution:  map each lexeme in lexeme histogram to its PoS \n",
        "\n",
        "(This is OK since lexical ambiguity is effectively 0)\n"
      ],
      "metadata": {}
    },
    {
      "cell_type": "markdown",
      "source": [
        "## Create a map of lexeme to  PoS\n"
      ],
      "metadata": {}
    },
    {
      "cell_type": "code",
      "source": [
        "val sampleForm = lc.analyzed.map (a => a.analyses(0))\n",
        "val lexemePoSpairing = sampleForm.map (f => f.lemmaId -> f.posLabel)\n",
        "val lexemeToPosMap = lexemePoSpairing.toMap"
      ],
      "outputs": [],
      "execution_count": null,
      "metadata": {
        "scrolled": true
      }
    },
    {
      "cell_type": "markdown",
      "source": [
        "## Map lexeme histogram to PoS histogram"
      ],
      "metadata": {}
    },
    {
      "cell_type": "code",
      "source": [
        "val freqOpts = lc.lexemeHistogram.frequencies.map(\n",
        "  fr => {\n",
        "    if (lexemeToPosMap.contains(fr.item)) {\n",
        "      Some(edu.holycross.shot.histoutils.Frequency(lexemeToPosMap(fr.item),  fr.count))\n",
        "    } else {\n",
        "      None\n",
        "    }\n",
        "    \n",
        "  })\n",
        "val freqs = freqOpts.flatten"
      ],
      "outputs": [],
      "execution_count": null,
      "metadata": {}
    },
    {
      "cell_type": "markdown",
      "source": [
        "## Look at PoS distribution for top 400 lexemes"
      ],
      "metadata": {}
    },
    {
      "cell_type": "code",
      "source": [
        "val top400Items = freqs.map(f => f.item).take(400)\n",
        "val top400Counts = freqs.map(f => f.count).take(400)"
      ],
      "outputs": [],
      "execution_count": null,
      "metadata": {}
    },
    {
      "cell_type": "code",
      "source": [
        "val top400Freqs = freqs.take(400)"
      ],
      "outputs": [],
      "execution_count": null,
      "metadata": {}
    },
    {
      "cell_type": "code",
      "source": [
        "val posGroups = top400Freqs.groupBy(fr => fr.item)\n",
        "val posCounts = posGroups.toVector.map{ case (pos, freqsV) => pos -> freqsV.map(f => f.count).sum }"
      ],
      "outputs": [],
      "execution_count": null,
      "metadata": {}
    },
    {
      "cell_type": "code",
      "source": [
        "val topPosCounts = posCounts.toVector.sortBy( _._2).map{ case(p,c) => edu.holycross.shot.histoutils.Frequency(p,c)}"
      ],
      "outputs": [],
      "execution_count": null,
      "metadata": {}
    },
    {
      "cell_type": "code",
      "source": [
        "val topPosHisto = edu.holycross.shot.histoutils.Histogram(topPosCounts).sorted"
      ],
      "outputs": [],
      "execution_count": null,
      "metadata": {}
    },
    {
      "cell_type": "code",
      "source": [
        "val items = topPosHisto.sorted.frequencies.map(fr => fr.item)\n",
        "val counts = topPosHisto.sorted.frequencies.map(fr => fr.count)\n",
        "\n",
        "val topPosPlot = Vector(\n",
        "  Bar(x = items, y = counts)\n",
        ")\n",
        "plot(topPosPlot)"
      ],
      "outputs": [],
      "execution_count": null,
      "metadata": {}
    },
    {
      "cell_type": "markdown",
      "source": [
        "## Repeat for second 400 item"
      ],
      "metadata": {}
    },
    {
      "cell_type": "code",
      "source": [
        "val second400Freqs = freqs.slice(400, 800)"
      ],
      "outputs": [],
      "execution_count": null,
      "metadata": {}
    },
    {
      "cell_type": "code",
      "source": [
        "val tier2Groups = second400Freqs.groupBy(fr => fr.item)\n",
        "val tier2Counts = tier2Groups.toVector.map{ case (pos, freqsV) => pos -> freqsV.map(f => f.count).sum }"
      ],
      "outputs": [],
      "execution_count": null,
      "metadata": {}
    },
    {
      "cell_type": "code",
      "source": [
        "val tier2PosCounts = tier2Counts.toVector.sortBy( _._2).map{ case(p,c) => edu.holycross.shot.histoutils.Frequency(p,c)}"
      ],
      "outputs": [],
      "execution_count": null,
      "metadata": {}
    },
    {
      "cell_type": "code",
      "source": [
        "val tier2PosHisto = edu.holycross.shot.histoutils.Histogram(tier2PosCounts).sorted"
      ],
      "outputs": [],
      "execution_count": null,
      "metadata": {}
    },
    {
      "cell_type": "code",
      "source": [
        "val items = tier2PosHisto.sorted.frequencies.map(fr => fr.item)\n",
        "val counts = tier2PosHisto.sorted.frequencies.map(fr => fr.count)\n",
        "\n",
        "val tierPosPlot = Vector(\n",
        "  Bar(x = items, y = counts)\n",
        ")\n",
        "plot(tierPosPlot)"
      ],
      "outputs": [],
      "execution_count": null,
      "metadata": {}
    }
  ],
  "metadata": {
    "kernelspec": {
      "display_name": "Scala (2.12)",
      "language": "scala",
      "name": "scala212"
    },
    "language_info": {
      "name": "scala",
      "version": "2.12.10",
      "mimetype": "text/x-scala",
      "file_extension": ".scala",
      "nbconvert_exporter": "script",
      "codemirror_mode": "text/x-scala"
    },
    "nteract": {
      "version": "0.22.0"
    }
  },
  "nbformat": 4,
  "nbformat_minor": 4
}